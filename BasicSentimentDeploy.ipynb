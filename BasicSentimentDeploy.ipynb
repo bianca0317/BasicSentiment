{
 "cells": [
  {
   "cell_type": "code",
   "execution_count": 1,
   "metadata": {},
   "outputs": [],
   "source": [
    "import pandas as pd\n",
    "from nltk.stem import WordNetLemmatizer # change words to root form that are recognized by dictionary (vs. stemmer)\n",
    "from nltk.tokenize import TreebankWordTokenizer\n",
    "from nltk.probability import FreqDist\n",
    "from nltk.corpus import stopwords\n",
    "import gradio as gr"
   ]
  },
  {
   "cell_type": "code",
   "execution_count": 2,
   "metadata": {},
   "outputs": [],
   "source": [
    "#Taken from EDHEC Coursera Course\n",
    "word_list=[]\n",
    "for sentiment_class in [\"Negative\",\"Positive\",\"Uncertainty\",\"Litigious\",\"StrongModal\",\"WeakModal\",\"Constraining\"]:\n",
    "    sentiment_list=pd.read_excel(\"LM Word List.xlsx\",sheet_name=sentiment_class,header=None)\n",
    "    sentiment_list.columns=[\"Word\"]\n",
    "    sentiment_list[\"Word\"]=sentiment_list[\"Word\"].str.lower()\n",
    "    sentiment_list[sentiment_class]=1 #1 if the word exists in the sheet, 0 otherwise\n",
    "    sentiment_list=sentiment_list.set_index(\"Word\")[sentiment_class] #set the words as the index\n",
    "    word_list.append(sentiment_list)\n",
    "word_list=pd.concat(word_list,axis=1,sort=True).fillna(0)"
   ]
  },
  {
   "cell_type": "code",
   "execution_count": 3,
   "metadata": {},
   "outputs": [],
   "source": [
    "def detect_sentiment(input_text):\n",
    "    #tokenize\n",
    "    tokenized_text=TreebankWordTokenizer().tokenize(input_text)\n",
    "    #lemmatize\n",
    "    lemmatizer=WordNetLemmatizer()\n",
    "    lemmatized_text=[lemmatizer.lemmatize(w) for w in tokenized_text]\n",
    "    #remove stop words, lower string case\n",
    "    final_words=[w.lower() for w in lemmatized_text if not w in stopwords.words()]\n",
    "    #get frequency/count\n",
    "    fdist=FreqDist(final_words)\n",
    "    #change to dataframe\n",
    "    df=pd.DataFrame.from_dict(fdist, orient='index')\n",
    "    df.columns=['freq']\n",
    "    #get % frequency\n",
    "    df_percent=df/df.sum()\n",
    "    \n",
    "    l=[]\n",
    "    for sentiment in word_list.columns:\n",
    "        sentiment_list=word_list[word_list[sentiment]==1].index\n",
    "        sentiment_freq=df_percent.reindex(sentiment_list).dropna().sum() #use words in dictionary as \"index\", ignore all other words since no category for those\n",
    "        l.append(sentiment_freq)\n",
    "        \n",
    "    sentiment_table=pd.concat(l,axis=1)\n",
    "    sentiment_table.columns=word_list.columns\n",
    "    sentiment_table=(sentiment_table*100).round(2)\n",
    "    return sentiment_table.T.idxmax().freq +' Sentiment'#returns index of maximum frequency"
   ]
  },
  {
   "cell_type": "code",
   "execution_count": 33,
   "metadata": {},
   "outputs": [],
   "source": [
    "def detect_sentiment2(input_text):\n",
    "    #tokenize\n",
    "    tokenized_text=TreebankWordTokenizer().tokenize(input_text)\n",
    "    #lemmatize\n",
    "    lemmatizer=WordNetLemmatizer()\n",
    "    lemmatized_text=[lemmatizer.lemmatize(w) for w in tokenized_text]\n",
    "    #remove stop words, lower string case\n",
    "    final_words=[w.lower() for w in lemmatized_text if not w in stopwords.words()]\n",
    "    #get frequency/count\n",
    "    fdist=FreqDist(final_words)\n",
    "    #change to dataframe\n",
    "    df=pd.DataFrame.from_dict(fdist, orient='index')\n",
    "    df.columns=['freq']\n",
    "    #get % frequency\n",
    "    df_percent=df/df.sum()\n",
    "    \n",
    "    l=[]\n",
    "    for sentiment in word_list.columns:\n",
    "        sentiment_list=word_list[word_list[sentiment]==1].index\n",
    "        sentiment_freq=df_percent.reindex(sentiment_list).dropna().sum() #use words in dictionary as \"index\", ignore all other words since no category for those\n",
    "        l.append(sentiment_freq)\n",
    "        \n",
    "    sentiment_table=pd.concat(l,axis=1)\n",
    "    sentiment_table.columns=word_list.columns\n",
    "    return (sentiment_table*100).round(2)"
   ]
  },
  {
   "cell_type": "code",
   "execution_count": 38,
   "metadata": {},
   "outputs": [
    {
     "data": {
      "text/plain": [
       "'Negative Sentiment'"
      ]
     },
     "execution_count": 38,
     "metadata": {},
     "output_type": "execute_result"
    }
   ],
   "source": [
    "detect_sentiment(\"Are you happy or depressed\")"
   ]
  },
  {
   "cell_type": "code",
   "execution_count": 37,
   "metadata": {},
   "outputs": [
    {
     "data": {
      "text/html": [
       "<div>\n",
       "<style scoped>\n",
       "    .dataframe tbody tr th:only-of-type {\n",
       "        vertical-align: middle;\n",
       "    }\n",
       "\n",
       "    .dataframe tbody tr th {\n",
       "        vertical-align: top;\n",
       "    }\n",
       "\n",
       "    .dataframe thead th {\n",
       "        text-align: right;\n",
       "    }\n",
       "</style>\n",
       "<table border=\"1\" class=\"dataframe\">\n",
       "  <thead>\n",
       "    <tr style=\"text-align: right;\">\n",
       "      <th></th>\n",
       "      <th>Negative</th>\n",
       "      <th>Positive</th>\n",
       "      <th>Uncertainty</th>\n",
       "      <th>Litigious</th>\n",
       "      <th>StrongModal</th>\n",
       "      <th>WeakModal</th>\n",
       "      <th>Constraining</th>\n",
       "    </tr>\n",
       "  </thead>\n",
       "  <tbody>\n",
       "    <tr>\n",
       "      <th>freq</th>\n",
       "      <td>33.33</td>\n",
       "      <td>33.33</td>\n",
       "      <td>0.0</td>\n",
       "      <td>0.0</td>\n",
       "      <td>0.0</td>\n",
       "      <td>0.0</td>\n",
       "      <td>0.0</td>\n",
       "    </tr>\n",
       "  </tbody>\n",
       "</table>\n",
       "</div>"
      ],
      "text/plain": [
       "      Negative  Positive  Uncertainty  Litigious  StrongModal  WeakModal  \\\n",
       "freq     33.33     33.33          0.0        0.0          0.0        0.0   \n",
       "\n",
       "      Constraining  \n",
       "freq           0.0  "
      ]
     },
     "execution_count": 37,
     "metadata": {},
     "output_type": "execute_result"
    }
   ],
   "source": [
    "detect_sentiment2(\"Are you happy or depressed\")"
   ]
  },
  {
   "cell_type": "code",
   "execution_count": 39,
   "metadata": {},
   "outputs": [
    {
     "data": {
      "text/html": [
       "<div>\n",
       "<style scoped>\n",
       "    .dataframe tbody tr th:only-of-type {\n",
       "        vertical-align: middle;\n",
       "    }\n",
       "\n",
       "    .dataframe tbody tr th {\n",
       "        vertical-align: top;\n",
       "    }\n",
       "\n",
       "    .dataframe thead th {\n",
       "        text-align: right;\n",
       "    }\n",
       "</style>\n",
       "<table border=\"1\" class=\"dataframe\">\n",
       "  <thead>\n",
       "    <tr style=\"text-align: right;\">\n",
       "      <th></th>\n",
       "      <th>Negative</th>\n",
       "      <th>Positive</th>\n",
       "      <th>Uncertainty</th>\n",
       "      <th>Litigious</th>\n",
       "      <th>StrongModal</th>\n",
       "      <th>WeakModal</th>\n",
       "      <th>Constraining</th>\n",
       "    </tr>\n",
       "  </thead>\n",
       "  <tbody>\n",
       "    <tr>\n",
       "      <th>freq</th>\n",
       "      <td>33.33</td>\n",
       "      <td>33.33</td>\n",
       "      <td>0.0</td>\n",
       "      <td>0.0</td>\n",
       "      <td>0.0</td>\n",
       "      <td>0.0</td>\n",
       "      <td>0.0</td>\n",
       "    </tr>\n",
       "  </tbody>\n",
       "</table>\n",
       "</div>"
      ],
      "text/plain": [
       "      Negative  Positive  Uncertainty  Litigious  StrongModal  WeakModal  \\\n",
       "freq     33.33     33.33          0.0        0.0          0.0        0.0   \n",
       "\n",
       "      Constraining  \n",
       "freq           0.0  "
      ]
     },
     "execution_count": 39,
     "metadata": {},
     "output_type": "execute_result"
    }
   ],
   "source": [
    "sentiment_table=detect_sentiment2(\"Are you happy or depressed\")\n",
    "sentiment_table"
   ]
  },
  {
   "cell_type": "code",
   "execution_count": 4,
   "metadata": {},
   "outputs": [
    {
     "name": "stdout",
     "output_type": "stream",
     "text": [
      "Running locally at: http://127.0.0.1:7860/\n",
      "This share link will expire in 24 hours. If you need a permanent link, visit: https://gradio.app/introducing-hosted (NEW!)\n",
      "Running on External URL: https://36231.gradio.app\n",
      "Interface loading below...\n"
     ]
    },
    {
     "data": {
      "text/html": [
       "\n",
       "        <iframe\n",
       "            width=\"1000\"\n",
       "            height=\"500\"\n",
       "            src=\"https://36231.gradio.app\"\n",
       "            frameborder=\"0\"\n",
       "            allowfullscreen\n",
       "        ></iframe>\n",
       "        "
      ],
      "text/plain": [
       "<IPython.lib.display.IFrame at 0x18f2a0957f0>"
      ]
     },
     "metadata": {},
     "output_type": "display_data"
    },
    {
     "data": {
      "text/plain": [
       "(<Flask 'gradio.networking'>,\n",
       " 'http://127.0.0.1:7860/',\n",
       " 'https://36231.gradio.app')"
      ]
     },
     "execution_count": 4,
     "metadata": {},
     "output_type": "execute_result"
    }
   ],
   "source": [
    "gr.Interface(detect_sentiment,'textbox',gr.outputs.Textbox(),title=\"Basic Sentiment Check\",description=\"The output will produce the main sentiment of the input text. For example, an input text that contains several positive words like \\\"happy\\\" or \\\"great\\\" will be tagged as positive. However, if it primarily has negative words like \\\"dangers\\\" or \\\"dampened\\\", it will be tagged as negative. The categories and words used for analyzing the sentiment was taken from Loughran-McDonald Sentiment Word Lists.\").launch(share=True)"
   ]
  },
  {
   "cell_type": "code",
   "execution_count": null,
   "metadata": {},
   "outputs": [],
   "source": []
  }
 ],
 "metadata": {
  "kernelspec": {
   "display_name": "Python 3",
   "language": "python",
   "name": "python3"
  },
  "language_info": {
   "codemirror_mode": {
    "name": "ipython",
    "version": 3
   },
   "file_extension": ".py",
   "mimetype": "text/x-python",
   "name": "python",
   "nbconvert_exporter": "python",
   "pygments_lexer": "ipython3",
   "version": "3.8.3"
  }
 },
 "nbformat": 4,
 "nbformat_minor": 4
}
